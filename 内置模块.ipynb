{
 "cells": [
  {
   "cell_type": "code",
   "execution_count": 11,
   "metadata": {},
   "outputs": [
    {
     "name": "stdout",
     "output_type": "stream",
     "text": [
      "   February 2019\n",
      "Mo Tu We Th Fr Sa Su\n",
      "             1  2  3\n",
      " 4  5  6  7  8  9 10\n",
      "11 12 13 14 15 16 17\n",
      "18 19 20 21 22 23 24\n",
      "25 26 27 28\n",
      "\n"
     ]
    }
   ],
   "source": [
    "import calendar\n",
    "print(calendar.month(2019,2,1))"
   ]
  },
  {
   "cell_type": "code",
   "execution_count": 12,
   "metadata": {},
   "outputs": [
    {
     "name": "stdout",
     "output_type": "stream",
     "text": [
      "1549002100.3456907\n",
      "time.struct_time(tm_year=2019, tm_mon=2, tm_mday=1, tm_hour=14, tm_min=21, tm_sec=40, tm_wday=4, tm_yday=32, tm_isdst=0)\n",
      "Fri Feb  1 14:21:40 2019\n",
      "Fri Feb  1 14:21:40 2019\n"
     ]
    }
   ],
   "source": [
    "import time\n",
    "print(time.time())  #返回时间戳(一串数字)\n",
    "print(time.localtime()) #返回时间元组数据\n",
    "print(time.asctime())    #返回字符串\n",
    "print(time.ctime()) #返回字符串"
   ]
  },
  {
   "cell_type": "code",
   "execution_count": 17,
   "metadata": {},
   "outputs": [
    {
     "name": "stdout",
     "output_type": "stream",
     "text": [
      "time.struct_time(tm_year=2016, tm_mon=2, tm_mday=12, tm_hour=0, tm_min=0, tm_sec=0, tm_wday=4, tm_yday=43, tm_isdst=-1)\n",
      "12/02/2016\n"
     ]
    }
   ],
   "source": [
    "t2 = time.strptime('12-02-2016', '%d-%m-%Y')            #将字符串转换为时间元组\n",
    "print(t2)\n",
    "print(time.strftime('%d/%m/%Y', t2))  #将时间元组转换成字符串"
   ]
  },
  {
   "cell_type": "code",
   "execution_count": 4,
   "metadata": {},
   "outputs": [],
   "source": [
    "import datetime\n",
    "# 获得当前系统时间\n",
    "print(datetime.now())\n",
    "\n",
    " \n",
    "# datetime对象的减法运算，返回timedelta对象，表示一个时间段\n",
    "delta = datetime.now() - datetime(2016, 1,25)\n",
    "print(delta)\n",
    "print(datetime(2017,8, 27) + delta)\n",
    " \n",
    "# datetime与string之间的转换\n",
    "print(str(datetime()))\n",
    " \n",
    "# datetime也有strptime和strftime方法\n",
    "print(datetime.now().strftime('%Y-%m-%d'))\n",
    "print(datetime.strptime('12-02-2016','%d-%m-%Y'))    #返回datetime对象"
   ]
  },
  {
   "cell_type": "code",
   "execution_count": null,
   "metadata": {},
   "outputs": [],
   "source": []
  }
 ],
 "metadata": {
  "kernelspec": {
   "display_name": "Python 3",
   "language": "python",
   "name": "python3"
  },
  "language_info": {
   "codemirror_mode": {
    "name": "ipython",
    "version": 3
   },
   "file_extension": ".py",
   "mimetype": "text/x-python",
   "name": "python",
   "nbconvert_exporter": "python",
   "pygments_lexer": "ipython3",
   "version": "3.7.0"
  }
 },
 "nbformat": 4,
 "nbformat_minor": 2
}
